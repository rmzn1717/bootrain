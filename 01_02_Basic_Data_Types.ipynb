{
 "cells": [
  {
   "cell_type": "markdown",
   "metadata": {},
   "source": [
    "# Assignments for \"Basic Data Types\" "
   ]
  },
  {
   "cell_type": "markdown",
   "metadata": {},
   "source": [
    "1. Suppose you invested in Bitcoin at the end of 2017 when Bitcoin gained a lot of value. What would be your money at the end of a week if you had invested \\$1000 with an average daily increase of 12\\% ? You can solve the problem using Python."
   ]
  },
  {
   "cell_type": "code",
   "execution_count": 1,
   "metadata": {},
   "outputs": [
    {
     "name": "stdout",
     "output_type": "stream",
     "text": [
      "2210.68140740608\n"
     ]
    }
   ],
   "source": [
    "capital = 1000\n",
    "daily_growth = 12\n",
    "period = 7\n",
    "final_growth = (((((((capital/100*112)/100*112)/100*112)/100*112)/100*112)/100*112)/100*112)\n",
    "print(final_growth)"
   ]
  },
  {
   "cell_type": "markdown",
   "metadata": {},
   "source": [
    "2. Print the text in quotes with Python. However, you must get the numbers from variables using `.format()` notation. <br> Because the text is long, you might consider writing in two lines:\n",
    "\n",
    "        `\"When we buy bitcoin with 1000 USD at the beginning of the week, we would earn 1210.68 USD at the end of the week, with an average gain of 12\\%.\"`"
   ]
  },
  {
   "cell_type": "code",
   "execution_count": 2,
   "metadata": {},
   "outputs": [
    {
     "name": "stdout",
     "output_type": "stream",
     "text": [
      "When we buy bitcoin with 1000 USD at the beginning of the week,we would earn 2210.68 USD at the end of the week,with an average gain of 12\\%.\n"
     ]
    }
   ],
   "source": [
    "text = \"When we buy bitcoin with {} USD at the beginning of the week,\\\n",
    "we would earn {:.2f} USD at the end of the week,\\\n",
    "with an average gain of {}\\%.\"\n",
    "print (text.format(capital, final_growth, daily_growth)) "
   ]
  },
  {
   "cell_type": "markdown",
   "metadata": {},
   "source": [
    "3. Get the temperature in Fahrenheit from user and write a code to convert it to Celcius. For conversion, you can use this formula: C = (5/9) * (F - 32)\n",
    "\n",
    "        Enter the temperature in Fahrenheit: \n",
    "        user --> 26\n",
    "        output --> Temperature (C) : -3.33"
   ]
  },
  {
   "cell_type": "code",
   "execution_count": 3,
   "metadata": {},
   "outputs": [
    {
     "name": "stdout",
     "output_type": "stream",
     "text": [
      "write here fahrenheit degree : 23\n",
      "-5.0\n",
      "-5.00\n"
     ]
    }
   ],
   "source": [
    "fahr =input('write here fahrenheit degree : ')\n",
    "celcius = (5/9) * (int(fahr)-32)  \n",
    "print(celcius)\n",
    "print('{:.2f}'.format(celcius))"
   ]
  },
  {
   "cell_type": "markdown",
   "metadata": {},
   "source": [
    "4. Get a three digit number the from user and calculate the sum of the digits in the integer.\n",
    "\n",
    "        user --> 365\n",
    "        output --> \"The sum of digits in the number is 14"
   ]
  },
  {
   "cell_type": "code",
   "execution_count": 4,
   "metadata": {},
   "outputs": [
    {
     "name": "stdout",
     "output_type": "stream",
     "text": [
      "write a three digit number: 23\n",
      "The sum of digits in the number is:  5\n"
     ]
    }
   ],
   "source": [
    "value = int(input(\"write a three digit number: \"))\n",
    "a  = value //100\n",
    "b = (value - a*100)//10\n",
    "c = (value - a*100 - b*10)\n",
    "print(\"The sum of digits in the number is: \", a+b+c)\n"
   ]
  },
  {
   "cell_type": "markdown",
   "metadata": {},
   "source": [
    "5. Write some code to calculate the hypotenuse of a right angled triangle. Get the side lengths from the user.\n",
    "\n",
    "        user --> first side lenth : 6\n",
    "        user --> first side lenth : 8\n",
    "        output --> \"The length of the hypotenuse is 10"
   ]
  },
  {
   "cell_type": "code",
   "execution_count": 5,
   "metadata": {},
   "outputs": [
    {
     "name": "stdout",
     "output_type": "stream",
     "text": [
      "first side lenth:23\n",
      "second side lenth:3\n",
      "\n",
      "Hipotenüs: 23.194827009486403\n"
     ]
    }
   ],
   "source": [
    "a = int(input(\"first side lenth:\"))\n",
    "b = int(input(\"second side lenth:\"))\n",
    "\n",
    "c = (a ** 2 + b ** 2) ** 0.5\n",
    "\n",
    "print(\"\\nHipotenüs:\",c)\n"
   ]
  },
  {
   "cell_type": "code",
   "execution_count": null,
   "metadata": {},
   "outputs": [],
   "source": []
  }
 ],
 "metadata": {
  "kernelspec": {
   "display_name": "Python 3",
   "language": "python",
   "name": "python3"
  },
  "language_info": {
   "codemirror_mode": {
    "name": "ipython",
    "version": 3
   },
   "file_extension": ".py",
   "mimetype": "text/x-python",
   "name": "python",
   "nbconvert_exporter": "python",
   "pygments_lexer": "ipython3",
   "version": "3.7.6"
  }
 },
 "nbformat": 4,
 "nbformat_minor": 4
}
