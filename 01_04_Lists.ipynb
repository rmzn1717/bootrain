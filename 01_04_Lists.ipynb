{
 "cells": [
  {
   "cell_type": "markdown",
   "metadata": {},
   "source": [
    "# Assignments for \"Lists\" "
   ]
  },
  {
   "cell_type": "markdown",
   "metadata": {},
   "source": [
    "1. Write a code to compute the sum of the two lowest numbers and the two highest numbers in the following list.\n",
    "\n",
    "        my_list = [34, 56, 76, 45, 2, 12, 67, 98, 37, 54, 66]"
   ]
  },
  {
   "cell_type": "code",
   "execution_count": 3,
   "metadata": {
    "collapsed": true
   },
   "outputs": [
    {
     "name": "stdout",
     "output_type": "stream",
     "text": [
      "[2, 12, 34, 37, 45, 54, 56, 66, 67, 76, 98]\n",
      "11\n",
      "ilk iki sayinin toplami:  14\n",
      "son iki sayinin toplami:  174\n"
     ]
    }
   ],
   "source": [
    "my_list = [34, 56, 76, 45, 2, 12, 67, 98, 37, 54, 66]\n",
    "my_list.sort()\n",
    "print(my_list)\n",
    "\n",
    "print(len(my_list))\n",
    "\n",
    "a = my_list[0]+ my_list[1]\n",
    "print ('ilk iki sayinin toplami: ',a)\n",
    "\n",
    "b = my_list[9]+my_list[10]\n",
    "print ('son iki sayinin toplami: ',b)"
   ]
  },
  {
   "cell_type": "markdown",
   "metadata": {},
   "source": [
    "2. The following two lists contain student names and scores. Write a code that gets the name from the user and prints the score of that student.\n",
    "\n",
    "        names = [\"David\", \"Michael\", \"John\", \"James\", \"Greg\", \"Mark\", \"William\", \"Richard\", \"Thomas\", \"Steven\", \n",
    "                 \"Mary\", \"Susan\", \"Maria\", \"Karen\", \"Lisa\", \"Linda\", \"Donna\", \"Patricia\", \"Debra\", \"Eric\"]\n",
    "\n",
    "        scores = [99, 87, 78, 86, 68, 94, 76, 97, 56, 98, 76, 87, 79, 90, 73, 93, 82, 69, 97, 98]\n",
    "\n",
    "isim = input ('ögrenci ismini giriniz : ')\n",
    "\n",
    "print (scores[names.index(isim)])"
   ]
  },
  {
   "cell_type": "code",
   "execution_count": 4,
   "metadata": {
    "scrolled": true
   },
   "outputs": [
    {
     "name": "stdout",
     "output_type": "stream",
     "text": [
      "ögrenci ismini giriniz : David\n",
      "99\n"
     ]
    }
   ],
   "source": [
    "names = [\"David\", \"Michael\", \"John\", \"James\", \"Greg\", \"Mark\", \"William\", \"Richard\", \"Thomas\", \"Steven\", \n",
    "                 \"Mary\", \"Susan\", \"Maria\", \"Karen\", \"Lisa\", \"Linda\", \"Donna\", \"Patricia\", \"Debra\", \"Eric\"]\n",
    "\n",
    "scores = [99, 87, 78, 86, 68, 94, 76, 97, 56, 98, 76, 87, 79, 90, 73, 93, 82, 69, 97, 98]\n",
    "\n",
    "isim = input ('ögrenci ismini giriniz : ')\n",
    "\n",
    "print (scores[names.index(isim)])"
   ]
  },
  {
   "cell_type": "markdown",
   "metadata": {},
   "source": [
    "3. By using the two lists above, what is the maximum score and how many students got that score?"
   ]
  },
  {
   "cell_type": "code",
   "execution_count": 5,
   "metadata": {},
   "outputs": [
    {
     "name": "stdout",
     "output_type": "stream",
     "text": [
      "99\n",
      "1\n"
     ]
    }
   ],
   "source": [
    "scores.sort()\n",
    "len(scores)\n",
    "\n",
    "print (scores[-1])\n",
    "print(scores.count(scores[-1])) "
   ]
  },
  {
   "cell_type": "markdown",
   "metadata": {},
   "source": [
    "4. We can confuse about how many days a month is. Create a list to handle it. You will have month names and day counts in your list together as a nested list."
   ]
  },
  {
   "cell_type": "code",
   "execution_count": null,
   "metadata": {},
   "outputs": [],
   "source": [
    "months = [['January', 31],  ['February', 28 ], ['March', 31],  ['April', 30], ['May', 31],  ['June', 30], ['July', 31] , \n",
    "         ['August', 31], ['September', 30],  ['October', 31] , ['November', 30], ['December', 31]]"
   ]
  },
  {
   "cell_type": "markdown",
   "metadata": {},
   "source": [
    "5. Now create lists of months for each season. Get month names and day counts from the list that you create before with slicing. Name the lists with seasons."
   ]
  },
  {
   "cell_type": "code",
   "execution_count": 7,
   "metadata": {},
   "outputs": [],
   "source": [
    "spring = [['March', 31], ['April', 30], ['May', 31]]\n",
    "summer = [['June', 30], ['July', 31] , ['August', 31]]\n",
    "fall = [['September', 30],  ['October', 31] , ['November', 30]]\n",
    "winter = [['December', 31], ['January', 31],  ['February', 28 ]]\n",
    "months_by_season = [spring, summer, fall, winter] "
   ]
  },
  {
   "cell_type": "markdown",
   "metadata": {},
   "source": [
    "6. Finally, from the list in the previous question, calculate how many days the summer season lasts."
   ]
  },
  {
   "cell_type": "code",
   "execution_count": 8,
   "metadata": {},
   "outputs": [
    {
     "name": "stdout",
     "output_type": "stream",
     "text": [
      "92\n"
     ]
    }
   ],
   "source": [
    "summer_days=summer[0][1]+summer[1][1]+summer[2][1]\n",
    "print(summer_days)"
   ]
  }
 ],
 "metadata": {
  "kernelspec": {
   "display_name": "Python 3",
   "language": "python",
   "name": "python3"
  },
  "language_info": {
   "codemirror_mode": {
    "name": "ipython",
    "version": 3
   },
   "file_extension": ".py",
   "mimetype": "text/x-python",
   "name": "python",
   "nbconvert_exporter": "python",
   "pygments_lexer": "ipython3",
   "version": "3.7.6"
  }
 },
 "nbformat": 4,
 "nbformat_minor": 4
}
