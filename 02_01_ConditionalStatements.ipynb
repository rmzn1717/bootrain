{
 "cells": [
  {
   "cell_type": "markdown",
   "metadata": {},
   "source": [
    "# Assignments for \"Conditional Statements\""
   ]
  },
  {
   "cell_type": "markdown",
   "metadata": {},
   "source": [
    "1. Please get Celcius or Fahrenheit degrees from users and type a code to convert these heat units to each other.  \n",
    "    For conversion, please use this formula: C = (5/9) * (F - 32)\n",
    "    \n",
    "        Example : \"40C\" --> \"104F\"\n",
    "                  \"52F\" --> \"11.1C\""
   ]
  },
  {
   "cell_type": "code",
   "execution_count": 21,
   "metadata": {},
   "outputs": [
    {
     "name": "stdout",
     "output_type": "stream",
     "text": [
      "write here a degree : 40c\n",
      "104.0\n"
     ]
    }
   ],
   "source": [
    "degree = input('write here a degree : ')\n",
    "\n",
    "if degree[-1] == 'f':\n",
    "    x= (5/9) * (int(degree[0:len(degree)-1])-32)\n",
    "    print('{:.2f}'.format(x),'c')\n",
    "    \n",
    "else :\n",
    "    y = (int(degree[0:len(degree)-1])) * 9/5 + 32\n",
    "    print(y)\n"
   ]
  },
  {
   "cell_type": "markdown",
   "metadata": {},
   "source": [
    "2. A company decided to give a bonus of 5% to the employees if his/her year of service is more than 5 years.\n",
    "Ask the user for their salary and year of service and print the net bonus amount."
   ]
  },
  {
   "cell_type": "code",
   "execution_count": 38,
   "metadata": {},
   "outputs": [
    {
     "name": "stdout",
     "output_type": "stream",
     "text": [
      "maasinizi yaziniz :2000\n",
      "calistiginiz yili giriniz : 4\n",
      "bonus almaya hak kazanamadiniz\n"
     ]
    }
   ],
   "source": [
    "maas = int(input('maasinizi yaziniz :'))\n",
    "yil = int(input('calistiginiz yili giriniz : '))\n",
    "\n",
    "if yil > 5 :\n",
    "    bonus = maas * 0.05\n",
    "    print ('{} euro almaya hak kazandiniz'.format(bonus))\n",
    "else :\n",
    "    print('bonus almaya hak kazanamadiniz')\n"
   ]
  },
  {
   "cell_type": "markdown",
   "metadata": {},
   "source": [
    "3. Take input of ages of 3 people by the user and determine the oldest and youngest among them."
   ]
  },
  {
   "cell_type": "code",
   "execution_count": 55,
   "metadata": {},
   "outputs": [
    {
     "name": "stdout",
     "output_type": "stream",
     "text": [
      "1. yasi giriniz23\n",
      "2. yasi giriniz3\n",
      "3. yasi giriniz23\n",
      "23 , 3 ve 23 içinde büyük olan sayı 23\n",
      "23 , 3 ve 23 içinde kucuk olan sayı 3\n"
     ]
    }
   ],
   "source": [
    "yas1 = int(input('1. yasi giriniz'))\n",
    "yas2 = int(input('2. yasi giriniz'))\n",
    "yas3 = int(input('3. yasi giriniz'))\n",
    "\n",
    "\n",
    " \n",
    "if (yas1 >= yas2) and (yas1 >= yas3):\n",
    "   buyuk = yas1\n",
    "elif (yas2>= yas1) and (yas2 >= yas3):\n",
    "   buyuk = yas2\n",
    "else:\n",
    "   buyuk = yas3\n",
    " \n",
    "print(yas1,\",\",yas2,\"ve\",yas3,\"içinde büyük olan sayı\",buyuk)\n",
    "\n",
    "\n",
    "\n",
    "if (yas1 <= yas2) and (yas1 <= yas3):\n",
    "   kucuk = yas1\n",
    "elif (yas2<= yas1) and (yas2 <= yas3):\n",
    "   kucuk = yas2\n",
    "else:\n",
    "   kucuk = yas3\n",
    " \n",
    "print(yas1,\",\",yas2,\"ve\",yas3,\"içinde kucuk olan sayı\",kucuk)\n",
    "\n"
   ]
  },
  {
   "cell_type": "markdown",
   "metadata": {},
   "source": [
    "4. A student will not be allowed to attend to the exam if his / her attendance to classes is less than 75%. Take followings input from the user:\n",
    "    - Number of classes held,\n",
    "    - Number of classes attended.\n",
    "   \n",
    "    Then, print the percentage of classes attended and whether the student is allowed to attend in an exam or not."
   ]
  },
  {
   "cell_type": "code",
   "execution_count": 62,
   "metadata": {},
   "outputs": [
    {
     "name": "stdout",
     "output_type": "stream",
     "text": [
      "write the number of classes held : 30\n",
      "write the number of classes attended : 20\n",
      "you dont allow to attened in exams\n"
     ]
    }
   ],
   "source": [
    "h = int(input('write the number of classes held : '))\n",
    "a = int(input('write the number of classes attended : '))\n",
    "\n",
    "if a < h * 0.75:\n",
    "    print('you dont allow to attened in exams')\n",
    "else :\n",
    "    print ('you allowed to attend exams')"
   ]
  },
  {
   "cell_type": "markdown",
   "metadata": {},
   "source": [
    "5. In this exercise, you will create a program that reads a letter of the alphabet from the user. According to the answer:\n",
    "\n",
    "    - If the user enters `a, e, i, o, u`, then your program should display a message indicating that the entered letter is a vowel.\n",
    "    - If the user enters `y`, then your program should display a message indicating that y is sometimes a vowel and sometimes a consonant.\n",
    "    - Otherwise, your program should display a message indicating that the letter is a consonant."
   ]
  },
  {
   "cell_type": "code",
   "execution_count": 77,
   "metadata": {},
   "outputs": [
    {
     "name": "stdout",
     "output_type": "stream",
     "text": [
      "enter an alphabeth: a\n",
      "the entered letter is a vowel\n"
     ]
    }
   ],
   "source": [
    "alph = input('enter an alphabeth: ')\n",
    "\n",
    "if (alph == \"a\") or (alph == \"e\") or (alph == \"i\") or (alph == \"o\") or (alph == \"u\"):\n",
    "    print ('the entered letter is a vowel')\n",
    "    \n",
    "elif (alph == \"y\"):\n",
    "    print('y is sometimes a vowel and sometimes a consonant')\n",
    "    \n",
    "else : \n",
    "    print(' the letter is a consonant')"
   ]
  },
  {
   "cell_type": "code",
   "execution_count": null,
   "metadata": {},
   "outputs": [],
   "source": []
  },
  {
   "cell_type": "code",
   "execution_count": null,
   "metadata": {},
   "outputs": [],
   "source": []
  }
 ],
 "metadata": {
  "kernelspec": {
   "display_name": "Python 3",
   "language": "python",
   "name": "python3"
  },
  "language_info": {
   "codemirror_mode": {
    "name": "ipython",
    "version": 3
   },
   "file_extension": ".py",
   "mimetype": "text/x-python",
   "name": "python",
   "nbconvert_exporter": "python",
   "pygments_lexer": "ipython3",
   "version": "3.7.6"
  }
 },
 "nbformat": 4,
 "nbformat_minor": 4
}
