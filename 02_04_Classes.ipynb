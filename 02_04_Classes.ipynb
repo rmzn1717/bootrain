{
 "cells": [
  {
   "cell_type": "markdown",
   "metadata": {},
   "source": [
    "# Assignment for \"Classes\""
   ]
  },
  {
   "cell_type": "markdown",
   "metadata": {},
   "source": [
    "In a retail application, many customers visit the retail outlet to purchase various items. The manager of the retail outlet now wants to keep track of all its items' and customers’ data. To achieve this purpose, please:\n",
    "\n",
    "\n",
    "- Define two classes named as `item` (with `item_name` and `price` attributes) and `customer` (with `customer_id`, `phone_number` attributes and `purchase` method). `purchase` method should calculate the total price with the given item name amount."
   ]
  },
  {
   "cell_type": "code",
   "execution_count": 49,
   "metadata": {},
   "outputs": [],
   "source": [
    "class item():\n",
    "    def __init__(self, item_name, price):\n",
    "        self.item_name = item_name\n",
    "        self.price = price\n",
    "        print ('item is ok')\n",
    "                  \n",
    "\n",
    "class customer():\n",
    "    def __init__(self, costumer_id, phone_number):\n",
    "        self.costumer_id = costumer_id\n",
    "        self.phone_number = phone_number\n",
    "        print('costumer is ok')\n",
    "        \n",
    "    def purchase(self, price, amount):\n",
    "        self.amount = amount\n",
    "        return price * amount\n"
   ]
  },
  {
   "cell_type": "markdown",
   "metadata": {},
   "source": [
    "- Create an item."
   ]
  },
  {
   "cell_type": "code",
   "execution_count": 51,
   "metadata": {},
   "outputs": [
    {
     "name": "stdout",
     "output_type": "stream",
     "text": [
      "item is ok\n"
     ]
    },
    {
     "data": {
      "text/plain": [
       "<__main__.item at 0x2b244a1b648>"
      ]
     },
     "execution_count": 51,
     "metadata": {},
     "output_type": "execute_result"
    }
   ],
   "source": [
    "s7 = item('telefon', 5000)    \n",
    "s7"
   ]
  },
  {
   "cell_type": "markdown",
   "metadata": {},
   "source": [
    "- Create a customer with an arbitrary ID and number."
   ]
  },
  {
   "cell_type": "code",
   "execution_count": 52,
   "metadata": {},
   "outputs": [
    {
     "name": "stdout",
     "output_type": "stream",
     "text": [
      "costumer is ok\n"
     ]
    },
    {
     "data": {
      "text/plain": [
       "<__main__.customer at 0x2b246b59408>"
      ]
     },
     "execution_count": 52,
     "metadata": {},
     "output_type": "execute_result"
    }
   ],
   "source": [
    "ali= customer(12345666, 123454444)\n",
    "ali"
   ]
  },
  {
   "cell_type": "markdown",
   "metadata": {},
   "source": [
    "- Make customers buy an item with an arbitrary amount and then print the total price."
   ]
  },
  {
   "cell_type": "code",
   "execution_count": 53,
   "metadata": {},
   "outputs": [
    {
     "name": "stdout",
     "output_type": "stream",
     "text": [
      "50000\n"
     ]
    }
   ],
   "source": [
    "total = ali.purchase(s7.price, 10)\n",
    "print(total)"
   ]
  },
  {
   "cell_type": "code",
   "execution_count": null,
   "metadata": {},
   "outputs": [],
   "source": []
  }
 ],
 "metadata": {
  "kernelspec": {
   "display_name": "Python 3",
   "language": "python",
   "name": "python3"
  },
  "language_info": {
   "codemirror_mode": {
    "name": "ipython",
    "version": 3
   },
   "file_extension": ".py",
   "mimetype": "text/x-python",
   "name": "python",
   "nbconvert_exporter": "python",
   "pygments_lexer": "ipython3",
   "version": "3.7.6"
  }
 },
 "nbformat": 4,
 "nbformat_minor": 4
}
