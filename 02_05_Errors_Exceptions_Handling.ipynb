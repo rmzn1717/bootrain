{
 "cells": [
  {
   "cell_type": "markdown",
   "metadata": {},
   "source": [
    "# Assignments for \"Errors and Exception Handling \""
   ]
  },
  {
   "cell_type": "markdown",
   "metadata": {},
   "source": [
    "1. Let us define a division operation inside a function (using `def`) but to get an error, define the denominator as 0. So, type properly except statement."
   ]
  },
  {
   "cell_type": "code",
   "execution_count": 7,
   "metadata": {
    "scrolled": true
   },
   "outputs": [
    {
     "name": "stdout",
     "output_type": "stream",
     "text": [
      "enter x: 3\n",
      "enter y: 0\n",
      "'division by zero' error occurred! \n"
     ]
    }
   ],
   "source": [
    "def division():\n",
    "    x=int(input('enter x: '))\n",
    "    y =int(input('enter y: '))\n",
    "    try:\n",
    "        print(x/y)\n",
    "    \n",
    "    except Exception as e:\n",
    "        print (\"'{}' error occurred! \".format(e))\n",
    "    return\n",
    "\n",
    "division()"
   ]
  },
  {
   "cell_type": "markdown",
   "metadata": {},
   "source": [
    "2. It is possible to get multiple errors after the execution of one try block. So, please define an error-exception issue with `NameError`."
   ]
  },
  {
   "cell_type": "code",
   "execution_count": 10,
   "metadata": {},
   "outputs": [
    {
     "name": "stdout",
     "output_type": "stream",
     "text": [
      "not defined name\n"
     ]
    }
   ],
   "source": [
    "try:\n",
    "    print (name)\n",
    "except NameError:  \n",
    "    print (\"not defined name\")\n",
    "else:  \n",
    "    print (\"Success, no error!\")"
   ]
  },
  {
   "cell_type": "markdown",
   "metadata": {},
   "source": [
    "3. Please define a function and with this function, generate a `ValueError` exception simply by entering a string instead of numerical value."
   ]
  },
  {
   "cell_type": "code",
   "execution_count": 8,
   "metadata": {},
   "outputs": [
    {
     "name": "stdout",
     "output_type": "stream",
     "text": [
      "enter number:d\n",
      "enter number please\n"
     ]
    }
   ],
   "source": [
    "try:\n",
    "    x= int(input('enter number:'))\n",
    "    if x <5 :\n",
    "        print('hello')\n",
    "    else:\n",
    "        print('no')\n",
    "except:\n",
    "    print('enter number please')"
   ]
  }
 ],
 "metadata": {
  "kernelspec": {
   "display_name": "Python 3",
   "language": "python",
   "name": "python3"
  }
 },
 "nbformat": 4,
 "nbformat_minor": 4
}
