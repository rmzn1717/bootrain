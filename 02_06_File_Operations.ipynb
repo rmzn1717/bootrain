{
 "cells": [
  {
   "cell_type": "markdown",
   "metadata": {},
   "source": [
    "# Assignments for \"File Operations\""
   ]
  },
  {
   "cell_type": "markdown",
   "metadata": {},
   "source": [
    "1. Please write a poem you wanted in a `.txt` file and save it to the disk."
   ]
  },
  {
   "cell_type": "code",
   "execution_count": 52,
   "metadata": {},
   "outputs": [],
   "source": [
    "with open(\"sessizgemi_poem.txt\",'a',encoding=\"utf-8\") as f:   # a ile sonuna ekledim.\n",
    "    f.write(\"\\n\\nBiçare gönüller! Ne giden son gemidir bu!\\nHicranlı hayatın ne de son matemidir bu!\\nDünyada sevilmiş ve seven nafile bekler;\\nBilmez ki giden sevgililer dönmeyecekler.\\n\")\n",
    "\n"
   ]
  },
  {
   "cell_type": "markdown",
   "metadata": {},
   "source": [
    "2. Append a new poem into the file you have created."
   ]
  },
  {
   "cell_type": "code",
   "execution_count": 53,
   "metadata": {},
   "outputs": [
    {
     "name": "stdout",
     "output_type": "stream",
     "text": [
      "\n",
      "\n",
      "Biçare gönüller! Ne giden son gemidir bu!\n",
      "Hicranlı hayatın ne de son matemidir bu!\n",
      "Dünyada sevilmiş ve seven nafile bekler;\n",
      "Bilmez ki giden sevgililer dönmeyecekler.\n",
      "\n"
     ]
    }
   ],
   "source": [
    "with open(\"sessizgemi_poem.txt\", \"r\",encoding=\"utf-8\") as f:\n",
    "    lines=f.read()\n",
    "\n",
    "print (lines)"
   ]
  },
  {
   "cell_type": "markdown",
   "metadata": {},
   "source": [
    "3. Read and print all poems."
   ]
  },
  {
   "cell_type": "code",
   "execution_count": 54,
   "metadata": {},
   "outputs": [
    {
     "name": "stdout",
     "output_type": "stream",
     "text": [
      "\n",
      "\n",
      "Biçare gönüller! Ne giden son gemidir bu!\n",
      "Hicranlı hayatın ne de son matemidir bu!\n",
      "Dünyada sevilmiş ve seven nafile bekler;\n",
      "Bilmez ki giden sevgililer dönmeyecekler.\n",
      "\n",
      "Birçok gidenin her biri memnun ki yerinden,\n",
      "Birçok seneler geçti; dönen yok seferinden.\n"
     ]
    }
   ],
   "source": [
    "with open(\"sessizgemi_poem.txt\",'a',encoding=\"utf-8\") as f:   # a ile sonuna ekledim.\n",
    "    f.write(\"\\nBirçok gidenin her biri memnun ki yerinden,\\nBirçok seneler geçti; dönen yok seferinden.\")\n",
    "\n",
    "with open(\"sessizgemi_poem.txt\", \"r\",encoding=\"utf-8\") as f:\n",
    "    lines=f.read()\n",
    "\n",
    "print (lines)"
   ]
  },
  {
   "cell_type": "code",
   "execution_count": null,
   "metadata": {},
   "outputs": [],
   "source": []
  }
 ],
 "metadata": {
  "kernelspec": {
   "display_name": "Python 3",
   "language": "python",
   "name": "python3"
  },
  "language_info": {
   "codemirror_mode": {
    "name": "ipython",
    "version": 3
   },
   "file_extension": ".py",
   "mimetype": "text/x-python",
   "name": "python",
   "nbconvert_exporter": "python",
   "pygments_lexer": "ipython3",
   "version": "3.7.6"
  }
 },
 "nbformat": 4,
 "nbformat_minor": 4
}
